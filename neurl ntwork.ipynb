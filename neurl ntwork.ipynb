{
 "cells": [
  {
   "cell_type": "code",
   "execution_count": 36,
   "metadata": {
    "collapsed": false
   },
   "outputs": [
    {
     "name": "stdout",
     "output_type": "stream",
     "text": [
      "error 8.4693497996\n",
      "error 0.497923708148\n",
      "error 0.787442767192\n",
      "error 1.31546744242\n",
      "error 0.979183545127\n",
      "[[ 0.07396436]\n",
      " [-0.60465471]\n",
      " [-0.60450574]\n",
      " [-1.66175309]]\n"
     ]
    }
   ],
   "source": [
    "import numpy as np\n",
    "\n",
    "def nonlin(x,deriv=False):\n",
    "    if (deriv==False):\n",
    "        return x*(1-x)\n",
    "    return 1/(1+np.exp(-x))\n",
    "\n",
    "\n",
    "input=np.array([[0,0,1],\n",
    "               [0,1,1],\n",
    "               [1,0,1],\n",
    "               [1,1,1]])\n",
    "\n",
    "output=np.array([[0],\n",
    "                 [1],\n",
    "                 [1],\n",
    "                 [0]])\n",
    "\n",
    "np.random.seed(1)\n",
    "\n",
    "syn0=2*np.random.random((3,4))-1\n",
    "syn1=2*np.random.random((4,1))-1\n",
    "\n",
    "\n",
    "for j in range(50000):\n",
    "    layer0=input;\n",
    "    layer1=nonlin(np.dot(layer0,syn0))\n",
    "    layer2=nonlin(np.dot(layer1,syn1))\n",
    "    \n",
    "    layer2_error=output-layer2\n",
    "    if (j%10000)==0:\n",
    "        print \"error \"+ str(np.mean(np.abs(layer2_error)))\n",
    "        l2_delta=layer2_error*nonlin(layer2, deriv=True)\n",
    "        l1_error=l2_delta.dot(syn1.T)\n",
    "        l1_delta=l1_error*nonlin(layer1,deriv=True)\n",
    "        #update synapse weight\n",
    "        syn1==layer1.T.dot(l2_delta)\n",
    "        syn0=layer0.T.dot(l1_delta)\n",
    "##print after training\n",
    "print layer2\n",
    "        \n",
    "    "
   ]
  },
  {
   "cell_type": "code",
   "execution_count": null,
   "metadata": {
    "collapsed": true
   },
   "outputs": [],
   "source": []
  }
 ],
 "metadata": {
  "anaconda-cloud": {},
  "kernelspec": {
   "display_name": "Python [conda env:py27]",
   "language": "python",
   "name": "conda-env-py27-py"
  },
  "language_info": {
   "codemirror_mode": {
    "name": "ipython",
    "version": 2
   },
   "file_extension": ".py",
   "mimetype": "text/x-python",
   "name": "python",
   "nbconvert_exporter": "python",
   "pygments_lexer": "ipython2",
   "version": "2.7.12"
  }
 },
 "nbformat": 4,
 "nbformat_minor": 1
}
