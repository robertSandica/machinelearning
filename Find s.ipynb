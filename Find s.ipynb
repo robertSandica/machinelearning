{
 "cells": [
  {
   "cell_type": "code",
   "execution_count": 1,
   "metadata": {
    "collapsed": false
   },
   "outputs": [
    {
     "data": {
      "text/plain": [
       "['Sunny', 'Warm', '?', 'Strong', '?', '?']"
      ]
     },
     "execution_count": 1,
     "metadata": {},
     "output_type": "execute_result"
    }
   ],
   "source": [
    "X = [['Sunny','Warm','Normal','Strong','Warm','Same','+'],\n",
    " ['Sunny','Warm','High','Strong','Warm','Same','+'],\n",
    " ['Rainy','Cold','High','Strong','Warm','Change','-'],\n",
    " ['Sunny','Warm','High','Strong','Cool','Change','+']]\n",
    "\n",
    "\n",
    "\n",
    "h = ['0','0','0','0','0','0']\n",
    "\n",
    "\n",
    "\n",
    "def positiveInstances():\n",
    "    return [x for x in X if x[-1]=='+']\n",
    "\n",
    "\n",
    "\n",
    "for x in positiveInstances():\n",
    "    for i in range(len(h)):\n",
    "        if h[i]!=x[i]:\n",
    "            if h[i]=='0':\n",
    "                h[i]=x[i]\n",
    "            else:\n",
    "                h[i]='?'\n",
    "\n",
    "h\n",
    "\n"
   ]
  },
  {
   "cell_type": "code",
   "execution_count": null,
   "metadata": {
    "collapsed": true
   },
   "outputs": [],
   "source": []
  }
 ],
 "metadata": {
  "anaconda-cloud": {},
  "kernelspec": {
   "display_name": "Python [conda env:py27]",
   "language": "python",
   "name": "conda-env-py27-py"
  },
  "language_info": {
   "codemirror_mode": {
    "name": "ipython",
    "version": 2
   },
   "file_extension": ".py",
   "mimetype": "text/x-python",
   "name": "python",
   "nbconvert_exporter": "python",
   "pygments_lexer": "ipython2",
   "version": "2.7.12"
  }
 },
 "nbformat": 4,
 "nbformat_minor": 1
}
