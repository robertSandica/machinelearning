{
 "cells": [
  {
   "cell_type": "code",
   "execution_count": 1,
   "metadata": {
    "collapsed": false
   },
   "outputs": [
    {
     "data": {
      "text/plain": [
       "'+'"
      ]
     },
     "execution_count": 1,
     "metadata": {},
     "output_type": "execute_result"
    }
   ],
   "source": [
    "import numpy as np\n",
    "import collections \n",
    "from IPython.core.interactiveshell import InteractiveShell\n",
    "InteractiveShell.ast_node_interactivity = \"all\"\n",
    "\n",
    "x = np.array([['Sunny','Warm','Normal','Strong','Warm','Same'],\n",
    " ['Sunny','Warm','High','Strong','Warm','Same'],\n",
    " ['Rainy','Cold','High','Strong','Warm','Change'],\n",
    " ['Sunny','Warm','High','Strong','Cool','Change']])\n",
    "\n",
    "y = ['+','+','-','+']\n",
    "\n",
    "attribute_stats=collections.defaultdict(int)\n",
    "\n",
    "for i in range (len(x)):\n",
    "    for j in range (len(x[i])):\n",
    "        attribute_stats[j,x[i][j],y[i]]+=1\n",
    "        \n",
    "label_stats=collections.defaultdict(int)\n",
    "\n",
    "for label in y:\n",
    "    label_stats[label]+=1\n",
    "\n",
    "def prior(label): \n",
    "    return label_stats[label]/len(x)\n",
    "\n",
    "def likelyhood(attribute_index,attribute_value,label):\n",
    "    p = attribute_stats[attribute_index,attribute_value,label]/label_stats[label]\n",
    "    if p==0:\n",
    "        return 0.0001\n",
    "    return p\n",
    "\n",
    "def probability(training_instance,label):\n",
    "    p=1\n",
    "    for i,value in enumerate(training_instance):\n",
    "        p*=likelyhood(i,value,label)\n",
    "    p*=prior(label) \n",
    "    return p\n",
    "    \n",
    "def predict(instance):\n",
    "    probabilities = [probability(instance,label) for label in set(y)]\n",
    "    i=np.argmax(probabilities)\n",
    "    return list(set(y))[i]\n",
    "    \n",
    "predict(['Rainy','Warm','Normal','Strong','Cool','Same'])"
   ]
  },
  {
   "cell_type": "code",
   "execution_count": null,
   "metadata": {
    "collapsed": true
   },
   "outputs": [],
   "source": []
  }
 ],
 "metadata": {
  "anaconda-cloud": {},
  "kernelspec": {
   "display_name": "Python [conda env:py27]",
   "language": "python",
   "name": "conda-env-py27-py"
  },
  "language_info": {
   "codemirror_mode": {
    "name": "ipython",
    "version": 2
   },
   "file_extension": ".py",
   "mimetype": "text/x-python",
   "name": "python",
   "nbconvert_exporter": "python",
   "pygments_lexer": "ipython2",
   "version": "2.7.12"
  }
 },
 "nbformat": 4,
 "nbformat_minor": 1
}
