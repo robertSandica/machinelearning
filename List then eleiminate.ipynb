{
 "cells": [
  {
   "cell_type": "code",
   "execution_count": 2,
   "metadata": {
    "collapsed": false
   },
   "outputs": [
    {
     "data": {
      "text/plain": [
       "[('Sunny', 'Warm', '?', 'Strong', '?', '?'),\n",
       " ('Sunny', 'Warm', '?', '?', '?', '?'),\n",
       " ('Sunny', '?', '?', 'Strong', '?', '?'),\n",
       " ('Sunny', '?', '?', '?', '?', '?'),\n",
       " ('?', 'Warm', '?', 'Strong', '?', '?'),\n",
       " ('?', 'Warm', '?', '?', '?', '?')]"
      ]
     },
     "execution_count": 2,
     "metadata": {},
     "output_type": "execute_result"
    }
   ],
   "source": [
    "import numpy as np\n",
    "import itertools\n",
    "\n",
    "x = np.array([['Sunny','Warm','Normal','Strong','Warm','Same'],\n",
    " ['Sunny','Warm','High','Strong','Warm','Same'],\n",
    " ['Rainy','Cold','High','Strong','Warm','Change'],\n",
    " ['Sunny','Warm','High','Strong','Cool','Change']])\n",
    "\n",
    "y = ['+','+','-','+']\n",
    "\n",
    "def check(hypothesis,instance,expected_label):#check if hypothesis classifies instance correctly\n",
    "    \n",
    "    calculated_label = None\n",
    "    for i in range (np.size(hypothesis)):\n",
    "        if(hypothesis[i] != instance[i] and hypothesis[i]!='?'):\n",
    "            calculated_label='-'\n",
    "    if(calculated_label is None):\n",
    "        calculated_label='+'\n",
    "        \n",
    "    return calculated_label==expected_label\n",
    "\n",
    "def list_then_eliminate(all_instances,all_labels):\n",
    "\n",
    "    transpose = np.transpose(all_instances)\n",
    "    distinct_attribute_values = [set(np.append(values,'?')) for values in transpose] \n",
    "    all_hypothesis = [h for h in itertools.product(*distinct_attribute_values)]\n",
    "\n",
    "    hypothesis_count,columns = np.shape(all_hypothesis)\n",
    "    instance_count,columns = np.shape(all_instances)\n",
    "    viable_hypothesis=[]\n",
    "    \n",
    "    for i in range (hypothesis_count):\n",
    "        result = True\n",
    "        for j in range (instance_count):\n",
    "            result =result and check(all_hypothesis[i],all_instances[j],all_labels[j])\n",
    "        if(result==True):\n",
    "            viable_hypothesis.append(all_hypothesis[i])\n",
    "    return  viable_hypothesis      \n",
    "    \n",
    "result=list_then_eliminate(x,y)\n",
    " \n",
    "result"
   ]
  },
  {
   "cell_type": "code",
   "execution_count": null,
   "metadata": {
    "collapsed": true
   },
   "outputs": [],
   "source": []
  }
 ],
 "metadata": {
  "anaconda-cloud": {},
  "kernelspec": {
   "display_name": "Python [conda env:py27]",
   "language": "python",
   "name": "conda-env-py27-py"
  },
  "language_info": {
   "codemirror_mode": {
    "name": "ipython",
    "version": 2
   },
   "file_extension": ".py",
   "mimetype": "text/x-python",
   "name": "python",
   "nbconvert_exporter": "python",
   "pygments_lexer": "ipython2",
   "version": "2.7.12"
  }
 },
 "nbformat": 4,
 "nbformat_minor": 1
}
